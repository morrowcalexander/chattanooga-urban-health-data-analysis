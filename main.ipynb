{
 "cells": [
  {
   "cell_type": "markdown",
   "id": "e2820c36",
   "metadata": {},
   "source": [
    "# Chattanooga Urban Health Data Analysis\n",
    "\n",
    "This notebook explores health outcomes and environmental conditions in Chattanooga, Tennessee, using three datasets:\n",
    "- EPA Air Quality (PM2.5)\n",
    "- CDC Health Indicators\n",
    "- ACS Demographics"
   ]
  },
  {
   "cell_type": "code",
   "execution_count": null,
   "id": "fc45cf66",
   "metadata": {
    "vscode": {
     "languageId": "plaintext"
    }
   },
   "outputs": [],
   "source": [
    "import pandas as pd\n",
    "import plotly.express as px\n",
    "import plotly.graph_objects as go"
   ]
  },
  {
   "cell_type": "code",
   "execution_count": null,
   "id": "a11a92a4",
   "metadata": {
    "vscode": {
     "languageId": "plaintext"
    }
   },
   "outputs": [],
   "source": [
    "acs = pd.read_csv('processed/acs_preprocessed.csv')\n",
    "cdc = pd.read_csv('processed/cdc_preprocessed.csv')\n",
    "epa = pd.read_csv('processed/epa_pm25_monthly.csv')\n"
   ]
  },
  {
   "cell_type": "markdown",
   "id": "49aaed81",
   "metadata": {},
   "source": [
    "## Air Quality Trends in Chattanooga (EPA PM2.5 Data)"
   ]
  },
  {
   "cell_type": "code",
   "execution_count": null,
   "id": "6d68dc21",
   "metadata": {
    "vscode": {
     "languageId": "plaintext"
    }
   },
   "outputs": [],
   "source": [
    "fig = px.line(epa, x='Month', y='Avg PM2.5', title='Monthly Average PM2.5 in Chattanooga (2023)')\n",
    "fig.show()\n"
   ]
  },
  {
   "cell_type": "markdown",
   "id": "77a532c2",
   "metadata": {},
   "source": [
    "## Key Health Indicators in Chattanooga (CDC PLACES Data)\n"
   ]
  },
  {
   "cell_type": "code",
   "execution_count": null,
   "id": "69f27859",
   "metadata": {
    "vscode": {
     "languageId": "plaintext"
    }
   },
   "outputs": [],
   "source": [
    "fig = px.bar(cdc, x='Health Indicator', y='Estimate Value', title='Health Estimates for Selected Conditions')\n",
    "fig.update_layout(xaxis_tickangle=-45)\n",
    "fig.show()\n"
   ]
  },
  {
   "cell_type": "markdown",
   "id": "ec3d3828",
   "metadata": {},
   "source": [
    "## Demographic Overview of Chattanooga (ACS Data)\n"
   ]
  },
  {
   "cell_type": "code",
   "execution_count": null,
   "id": "20b301fa",
   "metadata": {
    "vscode": {
     "languageId": "plaintext"
    }
   },
   "outputs": [],
   "source": [
    "fig = px.bar(acs, x='Geography', y='Median Household Income', title='Median Household Income')\n",
    "fig.show()\n",
    "\n",
    "fig = px.bar(acs, x='Geography', y='High School Graduate Rate (%)', title='High School Graduate Rate (%)')\n",
    "fig.show()\n",
    "fig = px.bar(acs, x='Geography', y='Median Household Income', title='Median Household Income')\n",
    "fig.show()\n",
    "\n",
    "fig = px.bar(acs, x='Geography', y='High School Graduate Rate (%)', title='High School Graduate Rate (%)')\n",
    "fig.show()"
   ]
  },
  {
   "cell_type": "markdown",
   "id": "081fed86",
   "metadata": {},
   "source": [
    "## Conclusions"
   ]
  }
 ],
 "metadata": {
  "language_info": {
   "name": "python"
  }
 },
 "nbformat": 4,
 "nbformat_minor": 5
}
